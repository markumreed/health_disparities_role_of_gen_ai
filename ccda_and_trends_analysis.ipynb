{
  "cells": [
    {
      "cell_type": "markdown",
      "id": "277729c4",
      "metadata": {},
      "source": [
        "# 🧬 Health Disparities & AI: CCDA Generator + Google Trends Tracker\n",
        "Generate synthetic CCDA patient records and track public interest trends on AI in healthcare."
      ]
    },
    {
      "cell_type": "code",
      "execution_count": null,
      "id": "062c152f",
      "metadata": {},
      "outputs": [],
      "source": [
        "import pandas as pd\n",
        "import random\n",
        "from faker import Faker\n",
        "from lxml import etree\n",
        "from pytrends.request import TrendReq\n",
        "from IPython.display import display, Markdown\n",
        "\n",
        "# Setup\n",
        "fake = Faker()\n",
        "ethnicities = [\"Black\", \"White\", \"Hispanic\", \"Asian\", \"AIAN\", \"NHPI\"]\n",
        "CCDA_CODES = {\n",
        "    \"demographics\": \"21112-8\",\n",
        "    \"social_history\": \"29762-2\",\n",
        "    \"conditions\": \"11450-4\",\n",
        "    \"medications\": \"10160-0\",\n",
        "    \"procedures\": \"47519-4\"\n",
        "}\n"
      ]
    },
    {
      "cell_type": "code",
      "execution_count": null,
      "id": "e6d41221",
      "metadata": {},
      "outputs": [],
      "source": [
        "# Load dataset\n",
        "df = pd.read_csv(\"healthcare_dataset.csv\")\n",
        "df.head()\n"
      ]
    },
    {
      "cell_type": "code",
      "execution_count": null,
      "id": "822c7f65",
      "metadata": {},
      "outputs": [],
      "source": [
        "def create_ccda_from_row(row):\n",
        "    root = etree.Element(\"ClinicalDocument\")\n",
        "\n",
        "    demo = etree.SubElement(root, \"section\", code=CCDA_CODES[\"demographics\"])\n",
        "    etree.SubElement(demo, \"name\").text = row[\"Name\"].title()\n",
        "    etree.SubElement(demo, \"age\").text = str(row[\"Age\"])\n",
        "    etree.SubElement(demo, \"gender\").text = row[\"Gender\"]\n",
        "    etree.SubElement(demo, \"blood_type\").text = row[\"Blood Type\"]\n",
        "    etree.SubElement(demo, \"ethnicity\").text = random.choice(ethnicities)\n",
        "\n",
        "    social = etree.SubElement(root, \"section\", code=CCDA_CODES[\"social_history\"])\n",
        "    etree.SubElement(social, \"insurance\").text = row[\"Insurance Provider\"]\n",
        "    etree.SubElement(social, \"admission_type\").text = row[\"Admission Type\"]\n",
        "    etree.SubElement(social, \"billing_amount\").text = f\"{row['Billing Amount']:.2f}\"\n",
        "\n",
        "    conditions = etree.SubElement(root, \"section\", code=CCDA_CODES[\"conditions\"])\n",
        "    etree.SubElement(conditions, \"condition\").text = row[\"Medical Condition\"]\n",
        "    etree.SubElement(conditions, \"test_result\").text = row[\"Test Results\"]\n",
        "\n",
        "    meds = etree.SubElement(root, \"section\", code=CCDA_CODES[\"medications\"])\n",
        "    etree.SubElement(meds, \"medication\").text = row[\"Medication\"]\n",
        "\n",
        "    procs = etree.SubElement(root, \"section\", code=CCDA_CODES[\"procedures\"])\n",
        "    etree.SubElement(procs, \"procedure\").text = f\"Admitted on {row['Date of Admission']} for {row['Admission Type']}\"\n",
        "\n",
        "    return etree.tostring(root, pretty_print=True).decode(\"utf-8\")\n"
      ]
    },
    {
      "cell_type": "code",
      "execution_count": null,
      "id": "33155bb3",
      "metadata": {},
      "outputs": [],
      "source": [
        "# Generate and display a sample XML\n",
        "sample_xml = create_ccda_from_row(df.iloc[0])\n",
        "print(sample_xml)\n"
      ]
    },
    {
      "cell_type": "code",
      "execution_count": null,
      "id": "f814c04d",
      "metadata": {},
      "outputs": [],
      "source": [
        "def track_public_interest(keywords):\n",
        "    pytrends = TrendReq(hl='en-US', tz=360)\n",
        "    pytrends.build_payload(keywords, cat=0, timeframe='today 12-m')\n",
        "    df_trends = pytrends.interest_over_time()\n",
        "    return df_trends\n",
        "\n",
        "keywords = [\"AI in healthcare\", \"health disparities\", \"artificial intelligence bias\", \"predictive health\"]\n",
        "trends_df = track_public_interest(keywords)\n",
        "trends_df.head()\n"
      ]
    }
  ],
  "metadata": {
    "language_info": {
      "name": "python"
    }
  },
  "nbformat": 4,
  "nbformat_minor": 5
}
